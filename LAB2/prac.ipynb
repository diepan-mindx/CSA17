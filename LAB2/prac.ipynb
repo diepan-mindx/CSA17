{
 "cells": [
  {
   "cell_type": "markdown",
   "id": "9b39cfb3",
   "metadata": {},
   "source": [
    "> Yêu cầu 1: Tạo một danh sách chứa các số từ 1 đến 100 "
   ]
  },
  {
   "cell_type": "code",
   "execution_count": null,
   "id": "dcd19ed0",
   "metadata": {},
   "outputs": [],
   "source": [
    "import random\n",
    "ds1 = list(range(1, 101))\n",
    "ds2 = [random.randint(1, 100) for _ in range(100)]\n",
    "ds2"
   ]
  },
  {
   "cell_type": "markdown",
   "id": "536902f6",
   "metadata": {},
   "source": [
    "> Yêu cầu 2: Viết hàm tạo một danh sách mới chỉ chứa các số lẻ từ danh sách ban đầu "
   ]
  },
  {
   "cell_type": "code",
   "execution_count": null,
   "id": "f2802ca8",
   "metadata": {},
   "outputs": [],
   "source": [
    "def loc_so_le(ds):\n",
    "    return [i for i in ds if i % 2 != 0]\n",
    "\n",
    "loc_so_le(ds2)"
   ]
  },
  {
   "cell_type": "markdown",
   "id": "45b320cd",
   "metadata": {},
   "source": [
    "> Yêu cầu 3: Tạo một từ điển, trong đó: \n",
    "- mỗi khóa là một số từ danh sách số lẻ\n",
    "- giá trị là bình phương của khoá\n",
    "- i: i**2"
   ]
  },
  {
   "cell_type": "code",
   "execution_count": null,
   "id": "8fe565c6",
   "metadata": {},
   "outputs": [],
   "source": [
    "tu_dien = {i: i**2 for i in loc_so_le(ds2)}\n",
    "tu_dien"
   ]
  }
 ],
 "metadata": {
  "kernelspec": {
   "display_name": "Python 3",
   "language": "python",
   "name": "python3"
  },
  "language_info": {
   "codemirror_mode": {
    "name": "ipython",
    "version": 3
   },
   "file_extension": ".py",
   "mimetype": "text/x-python",
   "name": "python",
   "nbconvert_exporter": "python",
   "pygments_lexer": "ipython3",
   "version": "3.13.2"
  }
 },
 "nbformat": 4,
 "nbformat_minor": 5
}
