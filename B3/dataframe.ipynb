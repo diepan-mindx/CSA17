{
 "cells": [
  {
   "cell_type": "code",
   "execution_count": 14,
   "id": "3abcc8b2",
   "metadata": {},
   "outputs": [
    {
     "data": {
      "text/plain": [
       "{'tên': ['Laptop Dell XPS',\n",
       "  'iPhone 14',\n",
       "  'Samsung Galaxy S23',\n",
       "  'Tai nghe Sony WH-1000XM5',\n",
       "  'Máy ảnh Canon EOS R'],\n",
       " 'giá bán': [35000000, 25000000, 22000000, 7000000, 42000000],\n",
       " 'ngày tạo': ['2023-01-15',\n",
       "  '2023-03-10',\n",
       "  '2023-04-05',\n",
       "  '2023-05-22',\n",
       "  '2023-06-18'],\n",
       " 'category': ['Laptop', 'Điện thoại', 'Điện thoại', 'Phụ kiện', 'Máy ảnh']}"
      ]
     },
     "execution_count": 14,
     "metadata": {},
     "output_type": "execute_result"
    }
   ],
   "source": [
    "# data\n",
    "products = {\n",
    "    \"tên\": [\"Laptop Dell XPS\", \"iPhone 14\", \"Samsung Galaxy S23\", \"Tai nghe Sony WH-1000XM5\", \"Máy ảnh Canon EOS R\"],\n",
    "    \"giá bán\": [35000000, 25000000, 22000000, 7000000, 42000000],\n",
    "    \"ngày tạo\": [\"2023-01-15\", \"2023-03-10\", \"2023-04-05\", \"2023-05-22\", \"2023-06-18\"],\n",
    "    \"category\": [\"Laptop\", \"Điện thoại\", \"Điện thoại\", \"Phụ kiện\", \"Máy ảnh\"]\n",
    "}\n",
    "products"
   ]
  },
  {
   "cell_type": "markdown",
   "id": "35c81216",
   "metadata": {},
   "source": [
    "## Tạo csv với pandas\n",
    "- Chuyển dữ liệu dict -> dataframe\n",
    "- Dùng hàm to_csv()"
   ]
  },
  {
   "cell_type": "code",
   "execution_count": 15,
   "id": "39ca68ce",
   "metadata": {},
   "outputs": [],
   "source": [
    "import pandas as pd\n",
    "\n",
    "df = pd.DataFrame(products)\n",
    "# nếu đã có file -> tự động ghi đè file\n",
    "df.to_csv(\"products.csv\", index=False) "
   ]
  },
  {
   "cell_type": "markdown",
   "id": "b91f07a1",
   "metadata": {},
   "source": [
    "## Đọc csv với pandas\n",
    "- Khi trả về -> dataframe\n",
    "- Dùng các hàm hỗ trợ để in thông tin của bảng dữ liệu\n",
    "  - info()\n",
    "  - describe()\n",
    "  - shape + dtypes (bien)\n",
    "  - head() + tail()"
   ]
  },
  {
   "cell_type": "code",
   "execution_count": 16,
   "id": "1b0d524b",
   "metadata": {},
   "outputs": [
    {
     "name": "stdout",
     "output_type": "stream",
     "text": [
      "                        tên   giá bán    ngày tạo    category\n",
      "0           Laptop Dell XPS  35000000  2023-01-15      Laptop\n",
      "1                 iPhone 14  25000000  2023-03-10  Điện thoại\n",
      "2        Samsung Galaxy S23  22000000  2023-04-05  Điện thoại\n",
      "3  Tai nghe Sony WH-1000XM5   7000000  2023-05-22    Phụ kiện\n",
      "4       Máy ảnh Canon EOS R  42000000  2023-06-18     Máy ảnh\n",
      "Info: ----------------------\n",
      "<class 'pandas.core.frame.DataFrame'>\n",
      "RangeIndex: 5 entries, 0 to 4\n",
      "Data columns (total 4 columns):\n",
      " #   Column    Non-Null Count  Dtype \n",
      "---  ------    --------------  ----- \n",
      " 0   tên       5 non-null      object\n",
      " 1   giá bán   5 non-null      int64 \n",
      " 2   ngày tạo  5 non-null      object\n",
      " 3   category  5 non-null      object\n",
      "dtypes: int64(1), object(3)\n",
      "memory usage: 292.0+ bytes\n",
      "None\n",
      "Describe: ----------------------\n",
      "            giá bán\n",
      "count  5.000000e+00\n",
      "mean   2.620000e+07\n",
      "std    1.336787e+07\n",
      "min    7.000000e+06\n",
      "25%    2.200000e+07\n",
      "50%    2.500000e+07\n",
      "75%    3.500000e+07\n",
      "max    4.200000e+07\n",
      "Shape: ----------------------\n",
      "(5, 4)\n",
      "dtypes: ----------------------\n",
      "tên         object\n",
      "giá bán      int64\n",
      "ngày tạo    object\n",
      "category    object\n",
      "dtype: object\n",
      "head: ----------------------\n",
      "               tên   giá bán    ngày tạo category\n",
      "0  Laptop Dell XPS  35000000  2023-01-15   Laptop\n",
      "tail: ----------------------\n",
      "                        tên   giá bán    ngày tạo  category\n",
      "3  Tai nghe Sony WH-1000XM5   7000000  2023-05-22  Phụ kiện\n",
      "4       Máy ảnh Canon EOS R  42000000  2023-06-18   Máy ảnh\n"
     ]
    }
   ],
   "source": [
    "# ham read_csv báo lỗi khi không có file\n",
    "try:\n",
    "    df_from_csv = pd.read_csv(\"products.csv\")\n",
    "    print(df_from_csv)\n",
    "    print(\"Info: ----------------------\")\n",
    "    print(df_from_csv.info())\n",
    "    print(\"Describe: ----------------------\")\n",
    "    print(df_from_csv.describe())\n",
    "    print(\"Shape: ----------------------\")\n",
    "    print(df_from_csv.shape)\n",
    "    print(\"dtypes: ----------------------\")\n",
    "    print(df_from_csv.dtypes)\n",
    "    print(\"head: ----------------------\")\n",
    "    print(df_from_csv.head(1))\n",
    "    print(\"tail: ----------------------\")\n",
    "    print(df_from_csv.tail(2))\n",
    "except Exception as e:\n",
    "    print(\"Loi:\", e)"
   ]
  },
  {
   "cell_type": "markdown",
   "id": "e1d6e0c8",
   "metadata": {},
   "source": [
    "# Lọc dữ liệu"
   ]
  },
  {
   "cell_type": "markdown",
   "id": "f20bb479",
   "metadata": {},
   "source": [
    "## Lọc cột - series\n",
    "`<ten_dataframe>['<ten cot>']`"
   ]
  },
  {
   "cell_type": "code",
   "execution_count": 17,
   "id": "59987a9e",
   "metadata": {},
   "outputs": [
    {
     "ename": "KeyError",
     "evalue": "'price'",
     "output_type": "error",
     "traceback": [
      "\u001b[1;31m---------------------------------------------------------------------------\u001b[0m",
      "\u001b[1;31mKeyError\u001b[0m                                  Traceback (most recent call last)",
      "File \u001b[1;32mc:\\Users\\diepa\\AppData\\Local\\Programs\\Python\\Python313\\Lib\\site-packages\\pandas\\core\\indexes\\base.py:3812\u001b[0m, in \u001b[0;36mIndex.get_loc\u001b[1;34m(self, key)\u001b[0m\n\u001b[0;32m   3811\u001b[0m \u001b[38;5;28;01mtry\u001b[39;00m:\n\u001b[1;32m-> 3812\u001b[0m     \u001b[38;5;28;01mreturn\u001b[39;00m \u001b[38;5;28;43mself\u001b[39;49m\u001b[38;5;241;43m.\u001b[39;49m\u001b[43m_engine\u001b[49m\u001b[38;5;241;43m.\u001b[39;49m\u001b[43mget_loc\u001b[49m\u001b[43m(\u001b[49m\u001b[43mcasted_key\u001b[49m\u001b[43m)\u001b[49m\n\u001b[0;32m   3813\u001b[0m \u001b[38;5;28;01mexcept\u001b[39;00m \u001b[38;5;167;01mKeyError\u001b[39;00m \u001b[38;5;28;01mas\u001b[39;00m err:\n",
      "File \u001b[1;32mpandas/_libs/index.pyx:167\u001b[0m, in \u001b[0;36mpandas._libs.index.IndexEngine.get_loc\u001b[1;34m()\u001b[0m\n",
      "File \u001b[1;32mpandas/_libs/index.pyx:196\u001b[0m, in \u001b[0;36mpandas._libs.index.IndexEngine.get_loc\u001b[1;34m()\u001b[0m\n",
      "File \u001b[1;32mpandas/_libs/hashtable_class_helper.pxi:7088\u001b[0m, in \u001b[0;36mpandas._libs.hashtable.PyObjectHashTable.get_item\u001b[1;34m()\u001b[0m\n",
      "File \u001b[1;32mpandas/_libs/hashtable_class_helper.pxi:7096\u001b[0m, in \u001b[0;36mpandas._libs.hashtable.PyObjectHashTable.get_item\u001b[1;34m()\u001b[0m\n",
      "\u001b[1;31mKeyError\u001b[0m: 'price'",
      "\nThe above exception was the direct cause of the following exception:\n",
      "\u001b[1;31mKeyError\u001b[0m                                  Traceback (most recent call last)",
      "Cell \u001b[1;32mIn[17], line 2\u001b[0m\n\u001b[0;32m      1\u001b[0m \u001b[38;5;66;03m# lọc cột với dữ liệu trên 2000000\u001b[39;00m\n\u001b[1;32m----> 2\u001b[0m \u001b[43mdf_from_csv\u001b[49m\u001b[43m[\u001b[49m\u001b[38;5;124;43m\"\u001b[39;49m\u001b[38;5;124;43mprice\u001b[39;49m\u001b[38;5;124;43m\"\u001b[39;49m\u001b[43m]\u001b[49m \u001b[38;5;241m>\u001b[39m \u001b[38;5;241m20000000\u001b[39m\n",
      "File \u001b[1;32mc:\\Users\\diepa\\AppData\\Local\\Programs\\Python\\Python313\\Lib\\site-packages\\pandas\\core\\frame.py:4107\u001b[0m, in \u001b[0;36mDataFrame.__getitem__\u001b[1;34m(self, key)\u001b[0m\n\u001b[0;32m   4105\u001b[0m \u001b[38;5;28;01mif\u001b[39;00m \u001b[38;5;28mself\u001b[39m\u001b[38;5;241m.\u001b[39mcolumns\u001b[38;5;241m.\u001b[39mnlevels \u001b[38;5;241m>\u001b[39m \u001b[38;5;241m1\u001b[39m:\n\u001b[0;32m   4106\u001b[0m     \u001b[38;5;28;01mreturn\u001b[39;00m \u001b[38;5;28mself\u001b[39m\u001b[38;5;241m.\u001b[39m_getitem_multilevel(key)\n\u001b[1;32m-> 4107\u001b[0m indexer \u001b[38;5;241m=\u001b[39m \u001b[38;5;28;43mself\u001b[39;49m\u001b[38;5;241;43m.\u001b[39;49m\u001b[43mcolumns\u001b[49m\u001b[38;5;241;43m.\u001b[39;49m\u001b[43mget_loc\u001b[49m\u001b[43m(\u001b[49m\u001b[43mkey\u001b[49m\u001b[43m)\u001b[49m\n\u001b[0;32m   4108\u001b[0m \u001b[38;5;28;01mif\u001b[39;00m is_integer(indexer):\n\u001b[0;32m   4109\u001b[0m     indexer \u001b[38;5;241m=\u001b[39m [indexer]\n",
      "File \u001b[1;32mc:\\Users\\diepa\\AppData\\Local\\Programs\\Python\\Python313\\Lib\\site-packages\\pandas\\core\\indexes\\base.py:3819\u001b[0m, in \u001b[0;36mIndex.get_loc\u001b[1;34m(self, key)\u001b[0m\n\u001b[0;32m   3814\u001b[0m     \u001b[38;5;28;01mif\u001b[39;00m \u001b[38;5;28misinstance\u001b[39m(casted_key, \u001b[38;5;28mslice\u001b[39m) \u001b[38;5;129;01mor\u001b[39;00m (\n\u001b[0;32m   3815\u001b[0m         \u001b[38;5;28misinstance\u001b[39m(casted_key, abc\u001b[38;5;241m.\u001b[39mIterable)\n\u001b[0;32m   3816\u001b[0m         \u001b[38;5;129;01mand\u001b[39;00m \u001b[38;5;28many\u001b[39m(\u001b[38;5;28misinstance\u001b[39m(x, \u001b[38;5;28mslice\u001b[39m) \u001b[38;5;28;01mfor\u001b[39;00m x \u001b[38;5;129;01min\u001b[39;00m casted_key)\n\u001b[0;32m   3817\u001b[0m     ):\n\u001b[0;32m   3818\u001b[0m         \u001b[38;5;28;01mraise\u001b[39;00m InvalidIndexError(key)\n\u001b[1;32m-> 3819\u001b[0m     \u001b[38;5;28;01mraise\u001b[39;00m \u001b[38;5;167;01mKeyError\u001b[39;00m(key) \u001b[38;5;28;01mfrom\u001b[39;00m\u001b[38;5;250m \u001b[39m\u001b[38;5;21;01merr\u001b[39;00m\n\u001b[0;32m   3820\u001b[0m \u001b[38;5;28;01mexcept\u001b[39;00m \u001b[38;5;167;01mTypeError\u001b[39;00m:\n\u001b[0;32m   3821\u001b[0m     \u001b[38;5;66;03m# If we have a listlike key, _check_indexing_error will raise\u001b[39;00m\n\u001b[0;32m   3822\u001b[0m     \u001b[38;5;66;03m#  InvalidIndexError. Otherwise we fall through and re-raise\u001b[39;00m\n\u001b[0;32m   3823\u001b[0m     \u001b[38;5;66;03m#  the TypeError.\u001b[39;00m\n\u001b[0;32m   3824\u001b[0m     \u001b[38;5;28mself\u001b[39m\u001b[38;5;241m.\u001b[39m_check_indexing_error(key)\n",
      "\u001b[1;31mKeyError\u001b[0m: 'price'"
     ]
    }
   ],
   "source": [
    "# lọc cột với dữ liệu trên 2000000\n",
    "df_from_csv[\"price\"] > 20000000"
   ]
  },
  {
   "cell_type": "code",
   "execution_count": null,
   "id": "4d313133",
   "metadata": {},
   "outputs": [
    {
     "data": {
      "text/html": [
       "<div>\n",
       "<style scoped>\n",
       "    .dataframe tbody tr th:only-of-type {\n",
       "        vertical-align: middle;\n",
       "    }\n",
       "\n",
       "    .dataframe tbody tr th {\n",
       "        vertical-align: top;\n",
       "    }\n",
       "\n",
       "    .dataframe thead th {\n",
       "        text-align: right;\n",
       "    }\n",
       "</style>\n",
       "<table border=\"1\" class=\"dataframe\">\n",
       "  <thead>\n",
       "    <tr style=\"text-align: right;\">\n",
       "      <th></th>\n",
       "      <th>price</th>\n",
       "      <th>category</th>\n",
       "    </tr>\n",
       "  </thead>\n",
       "  <tbody>\n",
       "    <tr>\n",
       "      <th>0</th>\n",
       "      <td>35000000</td>\n",
       "      <td>Laptop</td>\n",
       "    </tr>\n",
       "    <tr>\n",
       "      <th>4</th>\n",
       "      <td>42000000</td>\n",
       "      <td>Máy ảnh</td>\n",
       "    </tr>\n",
       "  </tbody>\n",
       "</table>\n",
       "</div>"
      ],
      "text/plain": [
       "      price category\n",
       "0  35000000   Laptop\n",
       "4  42000000  Máy ảnh"
      ]
     },
     "execution_count": 22,
     "metadata": {},
     "output_type": "execute_result"
    }
   ],
   "source": [
    "new_data = df_from_csv[[\"price\",\"category\"]]\n",
    "new_data[df_from_csv[\"price\"] > 30000000]"
   ]
  },
  {
   "cell_type": "markdown",
   "id": "824ff8cf",
   "metadata": {},
   "source": [
    "## Lọc hàng\n",
    "- `slice [start: stop(n-1): step]`\n",
    "- Bỏ start: 0\n",
    "- Bỏ stop: length - 1 (lấy tới cuối cùng)\n",
    "- Bỏ step: 1"
   ]
  },
  {
   "cell_type": "code",
   "execution_count": null,
   "id": "68caf278",
   "metadata": {},
   "outputs": [],
   "source": [
    "# loc 2 hang dau\n",
    "df_from_csv[:2]"
   ]
  },
  {
   "cell_type": "code",
   "execution_count": null,
   "id": "95ff1387",
   "metadata": {},
   "outputs": [],
   "source": [
    "df_from_csv[1::2]"
   ]
  },
  {
   "cell_type": "markdown",
   "id": "91fd1669",
   "metadata": {},
   "source": [
    "## Thay đổi index"
   ]
  },
  {
   "cell_type": "code",
   "execution_count": null,
   "id": "83f82d60",
   "metadata": {},
   "outputs": [],
   "source": [
    "df_from_csv.set_index(\"tên\", inplace=True)\n",
    "df_from_csv"
   ]
  },
  {
   "cell_type": "code",
   "execution_count": null,
   "id": "2fffc329",
   "metadata": {},
   "outputs": [],
   "source": [
    "df_from_csv.reset_index()\n",
    "df_from_csv"
   ]
  }
 ],
 "metadata": {
  "kernelspec": {
   "display_name": "Python 3",
   "language": "python",
   "name": "python3"
  },
  "language_info": {
   "codemirror_mode": {
    "name": "ipython",
    "version": 3
   },
   "file_extension": ".py",
   "mimetype": "text/x-python",
   "name": "python",
   "nbconvert_exporter": "python",
   "pygments_lexer": "ipython3",
   "version": "3.13.2"
  }
 },
 "nbformat": 4,
 "nbformat_minor": 5
}
