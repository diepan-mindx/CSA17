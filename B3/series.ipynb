{
 "cells": [
  {
   "cell_type": "markdown",
   "id": "722b62d1",
   "metadata": {},
   "source": [
    "Tao series \n",
    "- C1: tạo bằng list + index \n",
    "- C2: tạo bằng dict"
   ]
  },
  {
   "cell_type": "code",
   "execution_count": 19,
   "id": "3227ac20",
   "metadata": {},
   "outputs": [
    {
     "data": {
      "text/plain": [
       "{'Hoa': 37,\n",
       " 'Phượng': 38,\n",
       " 'Nam': 48,\n",
       " 'Thu': 40,\n",
       " 'Hải': 42,\n",
       " 'Vũ': 40,\n",
       " 'Linh': 39,\n",
       " 'Bảo': 100,\n",
       " 'Nhân': 41,\n",
       " 'New': 39,\n",
       " 'An': 1}"
      ]
     },
     "execution_count": 19,
     "metadata": {},
     "output_type": "execute_result"
    }
   ],
   "source": [
    "data = {\n",
    "    \"Hoa\": 37,\n",
    "    \"Phượng\": 38,\n",
    "    \"Nam\": 48,\n",
    "    \"Thu\": 40,\n",
    "    \"Hải\": 42,\n",
    "    \"Vũ\": 40,\n",
    "    \"Linh\": 39,\n",
    "    \"Bảo\": 100,\n",
    "    \"Nhân\": 41,\n",
    "    \"New\": 39,\n",
    "    \"An\": 1\n",
    "}\n",
    "data # type: dict"
   ]
  },
  {
   "cell_type": "code",
   "execution_count": 20,
   "id": "9a8c6d36",
   "metadata": {},
   "outputs": [
    {
     "data": {
      "text/plain": [
       "Hoa        37\n",
       "Phượng     38\n",
       "Nam        48\n",
       "Thu        40\n",
       "Hải        42\n",
       "Vũ         40\n",
       "Linh       39\n",
       "Bảo       100\n",
       "Nhân       41\n",
       "New        39\n",
       "An          1\n",
       "dtype: int64"
      ]
     },
     "execution_count": 20,
     "metadata": {},
     "output_type": "execute_result"
    }
   ],
   "source": [
    "# Tach dict thanh 2 danh sach\n",
    "weights = data.values()\n",
    "names = data.keys()\n",
    "\n",
    "import pandas as pd\n",
    "series1 = pd.Series(weights, index=names)\n",
    "series1 # type: pd.Series"
   ]
  },
  {
   "cell_type": "code",
   "execution_count": 21,
   "id": "c1646732",
   "metadata": {},
   "outputs": [
    {
     "data": {
      "text/plain": [
       "count     11.000000\n",
       "mean      42.272727\n",
       "std       22.689605\n",
       "min        1.000000\n",
       "25%       38.500000\n",
       "50%       40.000000\n",
       "75%       41.500000\n",
       "max      100.000000\n",
       "dtype: float64"
      ]
     },
     "execution_count": 21,
     "metadata": {},
     "output_type": "execute_result"
    }
   ],
   "source": [
    "import pandas as pd\n",
    "series2 =pd.Series(data)\n",
    "series2.describe() # type: pd.Series"
   ]
  },
  {
   "cell_type": "markdown",
   "id": "8c32a4d6",
   "metadata": {},
   "source": [
    "# mean - trung bình cộng\n",
    "- Dễ bị ảnh hưởng bởi `giá trị ngoại lai (outlier)`"
   ]
  },
  {
   "cell_type": "code",
   "execution_count": 22,
   "id": "9037eeaf",
   "metadata": {},
   "outputs": [
    {
     "data": {
      "text/plain": [
       "np.float64(42.27272727272727)"
      ]
     },
     "execution_count": 22,
     "metadata": {},
     "output_type": "execute_result"
    }
   ],
   "source": [
    "series2.mean() # type: float"
   ]
  },
  {
   "cell_type": "markdown",
   "id": "13a7560b",
   "metadata": {},
   "source": [
    "# median - trung vị\n",
    "- Cách tính: **số ở giữa** của danh sách đã **được sắp xếp**\n",
    "- Nếu danh sách có n phần tử (n là **số chẵn**) -> trung bình cộng của 2 số ở giữa\n",
    "- `Ít bị ảnh hưởn bởi outlier hơn mean.`"
   ]
  },
  {
   "cell_type": "code",
   "execution_count": 23,
   "id": "8f18e3b7",
   "metadata": {},
   "outputs": [
    {
     "data": {
      "text/plain": [
       "np.float64(40.0)"
      ]
     },
     "execution_count": 23,
     "metadata": {},
     "output_type": "execute_result"
    }
   ],
   "source": [
    "series2.median() # type: float"
   ]
  },
  {
   "cell_type": "markdown",
   "id": "d10e4751",
   "metadata": {},
   "source": [
    "# mode - giá trị xuất hiện nhiều nhất\n",
    "- Giá trị nào xuất hiện với tần xuất cao nhất\n",
    "- **Có thể có nhiều giá trị phổ biến**\n",
    "- `Lấy giá trị phổ biến nhất.`"
   ]
  },
  {
   "cell_type": "code",
   "execution_count": 24,
   "id": "4259067a",
   "metadata": {},
   "outputs": [
    {
     "data": {
      "text/plain": [
       "0    39\n",
       "1    40\n",
       "dtype: int64"
      ]
     },
     "execution_count": 24,
     "metadata": {},
     "output_type": "execute_result"
    }
   ],
   "source": [
    "series2.mode() # type: pandas.Series"
   ]
  }
 ],
 "metadata": {
  "kernelspec": {
   "display_name": "Python 3",
   "language": "python",
   "name": "python3"
  },
  "language_info": {
   "codemirror_mode": {
    "name": "ipython",
    "version": 3
   },
   "file_extension": ".py",
   "mimetype": "text/x-python",
   "name": "python",
   "nbconvert_exporter": "python",
   "pygments_lexer": "ipython3",
   "version": "3.13.2"
  }
 },
 "nbformat": 4,
 "nbformat_minor": 5
}
