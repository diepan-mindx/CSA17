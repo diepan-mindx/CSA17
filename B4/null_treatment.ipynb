{
 "cells": [
  {
   "cell_type": "code",
   "execution_count": 68,
   "id": "02ebd068",
   "metadata": {},
   "outputs": [
    {
     "data": {
      "text/html": [
       "<div>\n",
       "<style scoped>\n",
       "    .dataframe tbody tr th:only-of-type {\n",
       "        vertical-align: middle;\n",
       "    }\n",
       "\n",
       "    .dataframe tbody tr th {\n",
       "        vertical-align: top;\n",
       "    }\n",
       "\n",
       "    .dataframe thead th {\n",
       "        text-align: right;\n",
       "    }\n",
       "</style>\n",
       "<table border=\"1\" class=\"dataframe\">\n",
       "  <thead>\n",
       "    <tr style=\"text-align: right;\">\n",
       "      <th></th>\n",
       "      <th>rank</th>\n",
       "      <th>finalWorth</th>\n",
       "      <th>category</th>\n",
       "      <th>personName</th>\n",
       "      <th>age</th>\n",
       "      <th>country</th>\n",
       "      <th>city</th>\n",
       "      <th>source</th>\n",
       "      <th>industries</th>\n",
       "      <th>countryOfCitizenship</th>\n",
       "      <th>...</th>\n",
       "      <th>cpi_change_country</th>\n",
       "      <th>gdp_country</th>\n",
       "      <th>gross_tertiary_education_enrollment</th>\n",
       "      <th>gross_primary_education_enrollment_country</th>\n",
       "      <th>life_expectancy_country</th>\n",
       "      <th>tax_revenue_country_country</th>\n",
       "      <th>total_tax_rate_country</th>\n",
       "      <th>population_country</th>\n",
       "      <th>latitude_country</th>\n",
       "      <th>longitude_country</th>\n",
       "    </tr>\n",
       "  </thead>\n",
       "  <tbody>\n",
       "    <tr>\n",
       "      <th>0</th>\n",
       "      <td>1</td>\n",
       "      <td>211000</td>\n",
       "      <td>Fashion &amp; Retail</td>\n",
       "      <td>Bernard Arnault &amp; family</td>\n",
       "      <td>74.0</td>\n",
       "      <td>France</td>\n",
       "      <td>Paris</td>\n",
       "      <td>LVMH</td>\n",
       "      <td>Fashion &amp; Retail</td>\n",
       "      <td>France</td>\n",
       "      <td>...</td>\n",
       "      <td>1.1</td>\n",
       "      <td>$2,715,518,274,227</td>\n",
       "      <td>65.6</td>\n",
       "      <td>102.5</td>\n",
       "      <td>82.5</td>\n",
       "      <td>24.2</td>\n",
       "      <td>60.7</td>\n",
       "      <td>67059887.0</td>\n",
       "      <td>46.227638</td>\n",
       "      <td>2.213749</td>\n",
       "    </tr>\n",
       "    <tr>\n",
       "      <th>1</th>\n",
       "      <td>1</td>\n",
       "      <td>211000</td>\n",
       "      <td>Fashion &amp; Retail</td>\n",
       "      <td>Bernard Arnault &amp; family</td>\n",
       "      <td>74.0</td>\n",
       "      <td>France</td>\n",
       "      <td>Paris</td>\n",
       "      <td>LVMH</td>\n",
       "      <td>Fashion &amp; Retail</td>\n",
       "      <td>France</td>\n",
       "      <td>...</td>\n",
       "      <td>1.1</td>\n",
       "      <td>$2,715,518,274,227</td>\n",
       "      <td>65.6</td>\n",
       "      <td>102.5</td>\n",
       "      <td>82.5</td>\n",
       "      <td>24.2</td>\n",
       "      <td>60.7</td>\n",
       "      <td>67059887.0</td>\n",
       "      <td>46.227638</td>\n",
       "      <td>2.213749</td>\n",
       "    </tr>\n",
       "    <tr>\n",
       "      <th>2</th>\n",
       "      <td>2</td>\n",
       "      <td>180000</td>\n",
       "      <td>Automotive</td>\n",
       "      <td>Elon Musk</td>\n",
       "      <td>51.0</td>\n",
       "      <td>United States</td>\n",
       "      <td>Austin</td>\n",
       "      <td>Tesla, SpaceX</td>\n",
       "      <td>Automotive</td>\n",
       "      <td>United States</td>\n",
       "      <td>...</td>\n",
       "      <td>7.5</td>\n",
       "      <td>$21,427,700,000,000</td>\n",
       "      <td>88.2</td>\n",
       "      <td>101.8</td>\n",
       "      <td>78.5</td>\n",
       "      <td>9.6</td>\n",
       "      <td>36.6</td>\n",
       "      <td>328239523.0</td>\n",
       "      <td>37.090240</td>\n",
       "      <td>-95.712891</td>\n",
       "    </tr>\n",
       "    <tr>\n",
       "      <th>3</th>\n",
       "      <td>3</td>\n",
       "      <td>114000</td>\n",
       "      <td>Technology</td>\n",
       "      <td>Jeff Bezos</td>\n",
       "      <td>59.0</td>\n",
       "      <td>United States</td>\n",
       "      <td>Medina</td>\n",
       "      <td>Amazon</td>\n",
       "      <td>Technology</td>\n",
       "      <td>United States</td>\n",
       "      <td>...</td>\n",
       "      <td>7.5</td>\n",
       "      <td>$21,427,700,000,000</td>\n",
       "      <td>88.2</td>\n",
       "      <td>101.8</td>\n",
       "      <td>78.5</td>\n",
       "      <td>9.6</td>\n",
       "      <td>36.6</td>\n",
       "      <td>328239523.0</td>\n",
       "      <td>37.090240</td>\n",
       "      <td>-95.712891</td>\n",
       "    </tr>\n",
       "    <tr>\n",
       "      <th>4</th>\n",
       "      <td>4</td>\n",
       "      <td>107000</td>\n",
       "      <td>Technology</td>\n",
       "      <td>Larry Ellison</td>\n",
       "      <td>78.0</td>\n",
       "      <td>United States</td>\n",
       "      <td>Lanai</td>\n",
       "      <td>Oracle</td>\n",
       "      <td>Technology</td>\n",
       "      <td>United States</td>\n",
       "      <td>...</td>\n",
       "      <td>7.5</td>\n",
       "      <td>$21,427,700,000,000</td>\n",
       "      <td>88.2</td>\n",
       "      <td>101.8</td>\n",
       "      <td>78.5</td>\n",
       "      <td>9.6</td>\n",
       "      <td>36.6</td>\n",
       "      <td>328239523.0</td>\n",
       "      <td>37.090240</td>\n",
       "      <td>-95.712891</td>\n",
       "    </tr>\n",
       "  </tbody>\n",
       "</table>\n",
       "<p>5 rows × 35 columns</p>\n",
       "</div>"
      ],
      "text/plain": [
       "   rank  finalWorth          category                personName   age  \\\n",
       "0     1      211000  Fashion & Retail  Bernard Arnault & family  74.0   \n",
       "1     1      211000  Fashion & Retail  Bernard Arnault & family  74.0   \n",
       "2     2      180000        Automotive                 Elon Musk  51.0   \n",
       "3     3      114000        Technology                Jeff Bezos  59.0   \n",
       "4     4      107000        Technology             Larry Ellison  78.0   \n",
       "\n",
       "         country    city         source        industries  \\\n",
       "0         France   Paris           LVMH  Fashion & Retail   \n",
       "1         France   Paris           LVMH  Fashion & Retail   \n",
       "2  United States  Austin  Tesla, SpaceX        Automotive   \n",
       "3  United States  Medina         Amazon        Technology   \n",
       "4  United States   Lanai         Oracle        Technology   \n",
       "\n",
       "  countryOfCitizenship  ... cpi_change_country           gdp_country  \\\n",
       "0               France  ...                1.1   $2,715,518,274,227    \n",
       "1               France  ...                1.1   $2,715,518,274,227    \n",
       "2        United States  ...                7.5  $21,427,700,000,000    \n",
       "3        United States  ...                7.5  $21,427,700,000,000    \n",
       "4        United States  ...                7.5  $21,427,700,000,000    \n",
       "\n",
       "  gross_tertiary_education_enrollment  \\\n",
       "0                                65.6   \n",
       "1                                65.6   \n",
       "2                                88.2   \n",
       "3                                88.2   \n",
       "4                                88.2   \n",
       "\n",
       "  gross_primary_education_enrollment_country life_expectancy_country  \\\n",
       "0                                      102.5                    82.5   \n",
       "1                                      102.5                    82.5   \n",
       "2                                      101.8                    78.5   \n",
       "3                                      101.8                    78.5   \n",
       "4                                      101.8                    78.5   \n",
       "\n",
       "  tax_revenue_country_country total_tax_rate_country population_country  \\\n",
       "0                        24.2                   60.7         67059887.0   \n",
       "1                        24.2                   60.7         67059887.0   \n",
       "2                         9.6                   36.6        328239523.0   \n",
       "3                         9.6                   36.6        328239523.0   \n",
       "4                         9.6                   36.6        328239523.0   \n",
       "\n",
       "  latitude_country longitude_country  \n",
       "0        46.227638          2.213749  \n",
       "1        46.227638          2.213749  \n",
       "2        37.090240        -95.712891  \n",
       "3        37.090240        -95.712891  \n",
       "4        37.090240        -95.712891  \n",
       "\n",
       "[5 rows x 35 columns]"
      ]
     },
     "execution_count": 68,
     "metadata": {},
     "output_type": "execute_result"
    }
   ],
   "source": [
    "import pandas as pd\n",
    "df = pd.read_csv(\"Billionaires.csv\")\n",
    "df.head()"
   ]
  },
  {
   "cell_type": "markdown",
   "id": "f7b0f504",
   "metadata": {},
   "source": [
    "# Xử lý dữ liệu NaN\n",
    "- isnull().sum()\n",
    "- dropna(axis=1): `xóa tất cả cột có chứa dữ liệu null`\n",
    "- drop(['tencot'], axis=1, inplace=True): `bỏ các cột không cần thiết` "
   ]
  },
  {
   "cell_type": "code",
   "execution_count": null,
   "id": "a059d930",
   "metadata": {},
   "outputs": [],
   "source": [
    "df.isnull().sum()"
   ]
  },
  {
   "cell_type": "code",
   "execution_count": null,
   "id": "6d410a02",
   "metadata": {},
   "outputs": [],
   "source": [
    "df.dropna()"
   ]
  },
  {
   "cell_type": "code",
   "execution_count": null,
   "id": "43ddd991",
   "metadata": {},
   "outputs": [],
   "source": [
    "df.dropna(axis=1)"
   ]
  },
  {
   "cell_type": "code",
   "execution_count": null,
   "id": "884963b5",
   "metadata": {},
   "outputs": [],
   "source": [
    "# hàm ghi đè lên dữ liệu cũ\n",
    "df.drop([\"organization\"], axis=1, inplace=True)"
   ]
  },
  {
   "cell_type": "markdown",
   "id": "85185dc4",
   "metadata": {},
   "source": [
    "# Điền khuyết\n",
    "- fillna()\n",
    "- bfill: `thay giá trị khuyết bằng giá trị ngay sau nó`\n",
    "- ffill: `thay giá trị khuyết bằng giá trị ngay trước nó`"
   ]
  },
  {
   "cell_type": "code",
   "execution_count": null,
   "id": "6ad97e08",
   "metadata": {},
   "outputs": [],
   "source": [
    "nan_rows_any = df[df.isna().any(axis=1)]\n",
    "\n",
    "print(\"\\nRows with at least one NaN value:\")\n",
    "print(nan_rows_any)"
   ]
  },
  {
   "cell_type": "code",
   "execution_count": null,
   "id": "5845d1eb",
   "metadata": {},
   "outputs": [],
   "source": [
    "df_filled_0 = df.fillna(0)\n",
    "df_filled_0.isnull().sum()\n",
    "df_filled_0.tail()"
   ]
  },
  {
   "cell_type": "code",
   "execution_count": null,
   "id": "45c76718",
   "metadata": {},
   "outputs": [],
   "source": [
    "# df_old = df.fillna(method=\"bfill\")\n",
    "df_bfill = df.bfill()\n",
    "df_bfill.isnull().sum()"
   ]
  },
  {
   "cell_type": "code",
   "execution_count": null,
   "id": "1b6db0aa",
   "metadata": {},
   "outputs": [],
   "source": [
    "df_ffill = df.ffill()\n",
    "df_ffill.isnull().sum()"
   ]
  },
  {
   "cell_type": "markdown",
   "id": "1668b88a",
   "metadata": {},
   "source": [
    "# Ép kiểu\n",
    "- dtypes\n",
    "- Series.astype('<kiểu dữ liệu>')\n",
    "- pd.to_numeric(<cột>): `để panda tự chọn kiểu phù hợp`"
   ]
  },
  {
   "cell_type": "code",
   "execution_count": null,
   "id": "dc4575dc",
   "metadata": {},
   "outputs": [],
   "source": [
    "df.dtypes"
   ]
  },
  {
   "cell_type": "code",
   "execution_count": 58,
   "id": "bc9ccc89",
   "metadata": {},
   "outputs": [
    {
     "data": {
      "text/plain": [
       "dtype('int64')"
      ]
     },
     "execution_count": 58,
     "metadata": {},
     "output_type": "execute_result"
    }
   ],
   "source": [
    "df_ffill.birthYear = df_ffill.birthYear.astype(\"int\")\n",
    "df_ffill.birthYear.dtype"
   ]
  },
  {
   "cell_type": "code",
   "execution_count": null,
   "id": "5a14f0c6",
   "metadata": {},
   "outputs": [],
   "source": [
    "df_ffill.age = pd.to_numeric(df_ffill.age)\n",
    "df_ffill.age.dtype"
   ]
  },
  {
   "cell_type": "markdown",
   "id": "7d17cdf1",
   "metadata": {},
   "source": [
    "# Dữ liệu trùng lặp\n",
    "- df['ten cot'].duplicated().sum()\n",
    "- df['ten cot'].drop_duplicates()"
   ]
  },
  {
   "cell_type": "code",
   "execution_count": null,
   "id": "71eec12b",
   "metadata": {},
   "outputs": [],
   "source": [
    "df_dup = df\n",
    "df_dup.duplicated().sum()"
   ]
  },
  {
   "cell_type": "code",
   "execution_count": null,
   "id": "d8ff595e",
   "metadata": {},
   "outputs": [],
   "source": [
    "# xoa ca hang trung\n",
    "df_dup = df_dup.drop_duplicates()\n",
    "df_dup.duplicated().sum()"
   ]
  },
  {
   "cell_type": "code",
   "execution_count": null,
   "id": "528ff824",
   "metadata": {},
   "outputs": [],
   "source": [
    "df_dup[df_dup[\"rank\"].duplicated()]"
   ]
  },
  {
   "cell_type": "code",
   "execution_count": null,
   "id": "2658031e",
   "metadata": {},
   "outputs": [],
   "source": [
    "df_dup.drop_duplicates(subset=[\"rank\"])"
   ]
  }
 ],
 "metadata": {
  "kernelspec": {
   "display_name": "Python 3",
   "language": "python",
   "name": "python3"
  },
  "language_info": {
   "codemirror_mode": {
    "name": "ipython",
    "version": 3
   },
   "file_extension": ".py",
   "mimetype": "text/x-python",
   "name": "python",
   "nbconvert_exporter": "python",
   "pygments_lexer": "ipython3",
   "version": "3.13.2"
  }
 },
 "nbformat": 4,
 "nbformat_minor": 5
}
