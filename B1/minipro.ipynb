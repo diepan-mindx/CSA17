{
 "cells": [
  {
   "cell_type": "markdown",
   "id": "62af1ef9",
   "metadata": {},
   "source": [
    "## Đặt phát biểu vấn đề\n",
    "- Liệt kê 3 lĩnh vực hoặc nguồn dữ liệu mà bạn quan tâm\n",
    "- Dẫn link một số trang web chia sẻ dữ liệu"
   ]
  },
  {
   "cell_type": "markdown",
   "id": "520be2fb",
   "metadata": {},
   "source": [
    "## Đặt câu hỏi thống kê\n",
    "- Vấn đề bạn đang quan tâm?\n",
    "- Lập 2 câu hỏi thống kê về vấn đề mà bạn quan tâm \n",
    "- Sử dụng AI để hỗ trợ đặt câu hỏi"
   ]
  },
  {
   "cell_type": "markdown",
   "id": "50189e03",
   "metadata": {},
   "source": [
    "## Dữ liệu\n",
    "- Link dataset\n",
    "- Sử dụng dữ liệu từ cột nào trong dataset"
   ]
  }
 ],
 "metadata": {
  "language_info": {
   "name": "python"
  }
 },
 "nbformat": 4,
 "nbformat_minor": 5
}
